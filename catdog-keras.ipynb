{
 "cells": [
  {
   "cell_type": "code",
   "execution_count": 1,
   "metadata": {},
   "outputs": [],
   "source": [
    "import tensorflow as tf\n",
    "from tensorflow import keras"
   ]
  },
  {
   "cell_type": "code",
   "execution_count": 2,
   "metadata": {},
   "outputs": [],
   "source": [
    "import numpy as np\n",
    "import matplotlib.pyplot as plt\n",
    "import seaborn as sns\n",
    "sns.set_style(None)\n",
    "from tqdm import tqdm\n",
    "%matplotlib inline"
   ]
  },
  {
   "cell_type": "code",
   "execution_count": 3,
   "metadata": {},
   "outputs": [],
   "source": [
    "import cv2\n",
    "import os"
   ]
  },
  {
   "cell_type": "code",
   "execution_count": 4,
   "metadata": {},
   "outputs": [],
   "source": [
    "path = 'CATS_DOGS/train/CAT/'"
   ]
  },
  {
   "cell_type": "code",
   "execution_count": 5,
   "metadata": {},
   "outputs": [],
   "source": [
    "cat_train_list = os.listdir(path)"
   ]
  },
  {
   "cell_type": "code",
   "execution_count": 6,
   "metadata": {},
   "outputs": [],
   "source": [
    "X = np.zeros((int(len(cat_train_list)),60*60*3+1))"
   ]
  },
  {
   "cell_type": "code",
   "execution_count": 7,
   "metadata": {},
   "outputs": [
    {
     "name": "stderr",
     "output_type": "stream",
     "text": [
      "100%|██████████| 9310/9310 [02:36<00:00, 59.43it/s]\n"
     ]
    }
   ],
   "source": [
    "i=0\n",
    "for i in tqdm(range(int(len(cat_train_list)))):\n",
    "    pic = cv2.imread(path+cat_train_list[i])\n",
    "    pic = cv2.resize(pic,(60,60))\n",
    "    cat_train_pic = pic.reshape(pic.shape[0]*pic.shape[1]*3,1).T\n",
    "    cat_train_pic = cat_train_pic/225\n",
    "    X[i,:-1] = cat_train_pic\n",
    "    X[i,-1] = 1"
   ]
  },
  {
   "cell_type": "code",
   "execution_count": 8,
   "metadata": {},
   "outputs": [],
   "source": [
    "X_cat = X[:,:-1]"
   ]
  },
  {
   "cell_type": "code",
   "execution_count": 9,
   "metadata": {},
   "outputs": [],
   "source": [
    "path = 'CATS_DOGS/train/DOG/'"
   ]
  },
  {
   "cell_type": "code",
   "execution_count": 10,
   "metadata": {},
   "outputs": [],
   "source": [
    "dog_train_list = os.listdir(path)"
   ]
  },
  {
   "cell_type": "code",
   "execution_count": 11,
   "metadata": {},
   "outputs": [],
   "source": [
    "X1 = np.zeros( (int(len(dog_train_list)),60*60*3+1))"
   ]
  },
  {
   "cell_type": "code",
   "execution_count": 12,
   "metadata": {},
   "outputs": [
    {
     "name": "stderr",
     "output_type": "stream",
     "text": [
      "100%|██████████| 9282/9282 [02:32<00:00, 60.93it/s]\n"
     ]
    }
   ],
   "source": [
    "i=0\n",
    "for i in tqdm(range(int(len(dog_train_list)))):\n",
    "    pic = cv2.imread(path+dog_train_list[i])\n",
    "    pic = cv2.resize(pic,(60,60))\n",
    "    dog_train_pic = pic.reshape(pic.shape[0]*pic.shape[1]*3,1).T\n",
    "    dog_train_pic = dog_train_pic/225\n",
    "    X1[i,:-1] = dog_train_pic\n",
    "    X1[i,-1] = 0"
   ]
  },
  {
   "cell_type": "code",
   "execution_count": 13,
   "metadata": {},
   "outputs": [],
   "source": [
    "X_dog = X1[:,:-1]"
   ]
  },
  {
   "cell_type": "code",
   "execution_count": 14,
   "metadata": {},
   "outputs": [],
   "source": [
    "x = np.zeros((X.shape[0]+X1.shape[0],X.shape[1]))"
   ]
  },
  {
   "cell_type": "code",
   "execution_count": 15,
   "metadata": {},
   "outputs": [],
   "source": [
    "x[0:9310,:] = X"
   ]
  },
  {
   "cell_type": "code",
   "execution_count": 16,
   "metadata": {},
   "outputs": [],
   "source": [
    "x[9310:,:] = X1"
   ]
  },
  {
   "cell_type": "code",
   "execution_count": 17,
   "metadata": {},
   "outputs": [],
   "source": [
    "np.random.shuffle(x)"
   ]
  },
  {
   "cell_type": "code",
   "execution_count": 18,
   "metadata": {},
   "outputs": [],
   "source": [
    "X = x[:,:-1]"
   ]
  },
  {
   "cell_type": "code",
   "execution_count": 19,
   "metadata": {},
   "outputs": [],
   "source": [
    "Y = x[:,-1]"
   ]
  },
  {
   "cell_type": "code",
   "execution_count": 20,
   "metadata": {},
   "outputs": [
    {
     "data": {
      "text/plain": [
       "(18592, 10800)"
      ]
     },
     "execution_count": 20,
     "metadata": {},
     "output_type": "execute_result"
    }
   ],
   "source": [
    "X.shape"
   ]
  },
  {
   "cell_type": "code",
   "execution_count": 21,
   "metadata": {},
   "outputs": [],
   "source": [
    "Y = Y.reshape((X.shape[0],1))"
   ]
  },
  {
   "cell_type": "code",
   "execution_count": 22,
   "metadata": {},
   "outputs": [
    {
     "data": {
      "text/plain": [
       "(18592, 1)"
      ]
     },
     "execution_count": 22,
     "metadata": {},
     "output_type": "execute_result"
    }
   ],
   "source": [
    "Y.shape"
   ]
  },
  {
   "cell_type": "code",
   "execution_count": 23,
   "metadata": {},
   "outputs": [],
   "source": [
    "model = keras.models.Sequential()\n",
    "model.add(keras.layers.Dense(300, activation=\"relu\"))\n",
    "model.add(keras.layers.Dense(100, activation=\"relu\"))\n",
    "model.add(keras.layers.Dense(2, activation=\"softmax\"))"
   ]
  },
  {
   "cell_type": "code",
   "execution_count": 24,
   "metadata": {},
   "outputs": [],
   "source": [
    "model.compile(loss=\"sparse_categorical_crossentropy\",optimizer=\"sgd\",metrics=[\"accuracy\"])"
   ]
  },
  {
   "cell_type": "code",
   "execution_count": 25,
   "metadata": {},
   "outputs": [],
   "source": [
    "from sklearn.model_selection import train_test_split"
   ]
  },
  {
   "cell_type": "code",
   "execution_count": 26,
   "metadata": {},
   "outputs": [],
   "source": [
    "X_train, X_test, y_train, y_test = train_test_split(X, Y, test_size=0.3, random_state=101)"
   ]
  },
  {
   "cell_type": "code",
   "execution_count": 27,
   "metadata": {},
   "outputs": [
    {
     "name": "stderr",
     "output_type": "stream",
     "text": [
      "WARNING: Logging before flag parsing goes to stderr.\n",
      "W0813 23:08:51.180268 139741247256384 deprecation.py:323] From /home/gp/anaconda3/lib/python3.7/site-packages/tensorflow/python/ops/math_grad.py:1250: add_dispatch_support.<locals>.wrapper (from tensorflow.python.ops.array_ops) is deprecated and will be removed in a future version.\n",
      "Instructions for updating:\n",
      "Use tf.where in 2.0, which has the same broadcast rule as np.where\n"
     ]
    },
    {
     "name": "stdout",
     "output_type": "stream",
     "text": [
      "Train on 13014 samples, validate on 5578 samples\n",
      "Epoch 1/50\n",
      "13014/13014 [==============================] - 6s 492us/sample - loss: 0.6884 - accuracy: 0.5654 - val_loss: 0.6592 - val_accuracy: 0.6146\n",
      "Epoch 2/50\n",
      "13014/13014 [==============================] - 4s 342us/sample - loss: 0.6584 - accuracy: 0.6138 - val_loss: 0.6826 - val_accuracy: 0.5376\n",
      "Epoch 3/50\n",
      "13014/13014 [==============================] - 4s 344us/sample - loss: 0.6470 - accuracy: 0.6204 - val_loss: 0.6431 - val_accuracy: 0.6291\n",
      "Epoch 4/50\n",
      "13014/13014 [==============================] - 4s 340us/sample - loss: 0.6368 - accuracy: 0.6355 - val_loss: 0.6492 - val_accuracy: 0.6246\n",
      "Epoch 5/50\n",
      "13014/13014 [==============================] - 4s 340us/sample - loss: 0.6300 - accuracy: 0.6388 - val_loss: 0.6489 - val_accuracy: 0.6180\n",
      "Epoch 6/50\n",
      "13014/13014 [==============================] - 5s 389us/sample - loss: 0.6253 - accuracy: 0.6448 - val_loss: 0.6295 - val_accuracy: 0.6425\n",
      "Epoch 7/50\n",
      "13014/13014 [==============================] - 5s 349us/sample - loss: 0.6156 - accuracy: 0.6618 - val_loss: 0.6421 - val_accuracy: 0.6271\n",
      "Epoch 8/50\n",
      "13014/13014 [==============================] - 5s 349us/sample - loss: 0.6073 - accuracy: 0.6654 - val_loss: 0.6906 - val_accuracy: 0.6015\n",
      "Epoch 9/50\n",
      "13014/13014 [==============================] - 5s 349us/sample - loss: 0.6017 - accuracy: 0.6674 - val_loss: 0.6507 - val_accuracy: 0.6251\n",
      "Epoch 10/50\n",
      "13014/13014 [==============================] - 5s 352us/sample - loss: 0.5961 - accuracy: 0.6740 - val_loss: 0.6211 - val_accuracy: 0.6492\n",
      "Epoch 11/50\n",
      "13014/13014 [==============================] - 5s 353us/sample - loss: 0.5881 - accuracy: 0.6783 - val_loss: 0.6746 - val_accuracy: 0.6126\n",
      "Epoch 12/50\n",
      "13014/13014 [==============================] - 5s 370us/sample - loss: 0.5863 - accuracy: 0.6818 - val_loss: 0.6292 - val_accuracy: 0.6402\n",
      "Epoch 13/50\n",
      "13014/13014 [==============================] - 5s 392us/sample - loss: 0.5759 - accuracy: 0.6922 - val_loss: 0.7053 - val_accuracy: 0.5991\n",
      "Epoch 14/50\n",
      "13014/13014 [==============================] - 5s 383us/sample - loss: 0.5704 - accuracy: 0.6931 - val_loss: 0.6401 - val_accuracy: 0.6409\n",
      "Epoch 15/50\n",
      "13014/13014 [==============================] - 5s 367us/sample - loss: 0.5609 - accuracy: 0.7036 - val_loss: 0.6468 - val_accuracy: 0.6423\n",
      "Epoch 16/50\n",
      "13014/13014 [==============================] - 5s 368us/sample - loss: 0.5558 - accuracy: 0.7125 - val_loss: 0.6394 - val_accuracy: 0.6441\n",
      "Epoch 17/50\n",
      "13014/13014 [==============================] - 5s 371us/sample - loss: 0.5468 - accuracy: 0.7197 - val_loss: 0.7055 - val_accuracy: 0.6120\n",
      "Epoch 18/50\n",
      "13014/13014 [==============================] - 5s 371us/sample - loss: 0.5370 - accuracy: 0.7244 - val_loss: 0.6259 - val_accuracy: 0.6572\n",
      "Epoch 19/50\n",
      "13014/13014 [==============================] - 5s 374us/sample - loss: 0.5303 - accuracy: 0.7312 - val_loss: 0.6943 - val_accuracy: 0.6176\n",
      "Epoch 20/50\n",
      "13014/13014 [==============================] - 5s 379us/sample - loss: 0.5244 - accuracy: 0.7335 - val_loss: 0.6249 - val_accuracy: 0.6601\n",
      "Epoch 21/50\n",
      "13014/13014 [==============================] - 5s 376us/sample - loss: 0.5165 - accuracy: 0.7387 - val_loss: 0.6515 - val_accuracy: 0.6484\n",
      "Epoch 22/50\n",
      "13014/13014 [==============================] - 5s 376us/sample - loss: 0.5078 - accuracy: 0.7485 - val_loss: 0.6522 - val_accuracy: 0.6518\n",
      "Epoch 23/50\n",
      "13014/13014 [==============================] - 5s 374us/sample - loss: 0.4993 - accuracy: 0.7542 - val_loss: 0.6459 - val_accuracy: 0.6597\n",
      "Epoch 24/50\n",
      "13014/13014 [==============================] - 5s 378us/sample - loss: 0.4919 - accuracy: 0.7596 - val_loss: 0.6432 - val_accuracy: 0.6518\n",
      "Epoch 25/50\n",
      "13014/13014 [==============================] - 5s 377us/sample - loss: 0.4866 - accuracy: 0.7654 - val_loss: 0.6406 - val_accuracy: 0.6572\n",
      "Epoch 26/50\n",
      "13014/13014 [==============================] - 5s 378us/sample - loss: 0.4750 - accuracy: 0.7702 - val_loss: 0.6620 - val_accuracy: 0.6474\n",
      "Epoch 27/50\n",
      "13014/13014 [==============================] - 5s 381us/sample - loss: 0.4665 - accuracy: 0.7771 - val_loss: 0.9272 - val_accuracy: 0.5651\n",
      "Epoch 28/50\n",
      "13014/13014 [==============================] - 5s 387us/sample - loss: 0.4576 - accuracy: 0.7825 - val_loss: 0.6694 - val_accuracy: 0.6477\n",
      "Epoch 29/50\n",
      "13014/13014 [==============================] - 5s 385us/sample - loss: 0.4459 - accuracy: 0.7944 - val_loss: 0.7822 - val_accuracy: 0.6180\n",
      "Epoch 30/50\n",
      "13014/13014 [==============================] - 5s 383us/sample - loss: 0.4361 - accuracy: 0.7940 - val_loss: 0.7062 - val_accuracy: 0.6325\n",
      "Epoch 31/50\n",
      "13014/13014 [==============================] - 5s 387us/sample - loss: 0.4258 - accuracy: 0.8012 - val_loss: 0.6550 - val_accuracy: 0.6655\n",
      "Epoch 32/50\n",
      "13014/13014 [==============================] - 5s 385us/sample - loss: 0.4181 - accuracy: 0.8088 - val_loss: 0.6617 - val_accuracy: 0.6646\n",
      "Epoch 33/50\n",
      "13014/13014 [==============================] - 5s 356us/sample - loss: 0.4098 - accuracy: 0.8118 - val_loss: 0.6956 - val_accuracy: 0.6468\n",
      "Epoch 34/50\n",
      "13014/13014 [==============================] - 5s 352us/sample - loss: 0.3956 - accuracy: 0.8214 - val_loss: 0.7388 - val_accuracy: 0.6497\n",
      "Epoch 35/50\n",
      "13014/13014 [==============================] - 5s 359us/sample - loss: 0.3839 - accuracy: 0.8267 - val_loss: 0.8723 - val_accuracy: 0.6047\n",
      "Epoch 36/50\n",
      "13014/13014 [==============================] - 5s 354us/sample - loss: 0.3831 - accuracy: 0.8291 - val_loss: 0.8223 - val_accuracy: 0.6359\n",
      "Epoch 37/50\n",
      "13014/13014 [==============================] - 5s 351us/sample - loss: 0.3724 - accuracy: 0.8303 - val_loss: 0.7005 - val_accuracy: 0.6526\n",
      "Epoch 38/50\n",
      "13014/13014 [==============================] - 5s 376us/sample - loss: 0.3658 - accuracy: 0.8356 - val_loss: 0.7330 - val_accuracy: 0.6549\n",
      "Epoch 39/50\n",
      "13014/13014 [==============================] - 5s 388us/sample - loss: 0.3483 - accuracy: 0.8458 - val_loss: 0.8200 - val_accuracy: 0.6034\n",
      "Epoch 40/50\n",
      "13014/13014 [==============================] - 5s 386us/sample - loss: 0.3424 - accuracy: 0.8505 - val_loss: 0.7895 - val_accuracy: 0.6466\n",
      "Epoch 41/50\n",
      "13014/13014 [==============================] - 5s 387us/sample - loss: 0.3333 - accuracy: 0.8538 - val_loss: 0.7511 - val_accuracy: 0.6470\n",
      "Epoch 42/50\n",
      "13014/13014 [==============================] - 5s 385us/sample - loss: 0.3167 - accuracy: 0.8668 - val_loss: 0.7618 - val_accuracy: 0.6547\n",
      "Epoch 43/50\n",
      "13014/13014 [==============================] - 5s 421us/sample - loss: 0.3147 - accuracy: 0.8655 - val_loss: 0.8830 - val_accuracy: 0.6379\n",
      "Epoch 44/50\n",
      "13014/13014 [==============================] - 6s 438us/sample - loss: 0.3051 - accuracy: 0.8642 - val_loss: 0.7829 - val_accuracy: 0.6622\n",
      "Epoch 45/50\n",
      "13014/13014 [==============================] - 6s 449us/sample - loss: 0.2997 - accuracy: 0.8708 - val_loss: 0.7996 - val_accuracy: 0.6581\n",
      "Epoch 46/50\n",
      "13014/13014 [==============================] - 6s 433us/sample - loss: 0.2914 - accuracy: 0.8766 - val_loss: 1.1024 - val_accuracy: 0.5913\n",
      "Epoch 47/50\n",
      "13014/13014 [==============================] - 6s 430us/sample - loss: 0.2870 - accuracy: 0.8795 - val_loss: 0.9675 - val_accuracy: 0.6260\n",
      "Epoch 48/50\n",
      "13014/13014 [==============================] - 6s 426us/sample - loss: 0.2657 - accuracy: 0.8913 - val_loss: 0.8825 - val_accuracy: 0.6359\n",
      "Epoch 49/50\n",
      "13014/13014 [==============================] - 6s 428us/sample - loss: 0.2580 - accuracy: 0.8935 - val_loss: 0.8694 - val_accuracy: 0.6490\n",
      "Epoch 50/50\n",
      "13014/13014 [==============================] - 6s 430us/sample - loss: 0.2441 - accuracy: 0.9023 - val_loss: 0.8355 - val_accuracy: 0.6454\n"
     ]
    }
   ],
   "source": [
    "history = model.fit(X_train,y_train,epochs=50,validation_data=(X_test,y_test))"
   ]
  },
  {
   "cell_type": "code",
   "execution_count": 28,
   "metadata": {},
   "outputs": [],
   "source": [
    "import pandas as pd"
   ]
  },
  {
   "cell_type": "code",
   "execution_count": 29,
   "metadata": {},
   "outputs": [
    {
     "data": {
      "image/png": "[encoded data removed]",
      "text/plain": [
       "<Figure size 576x360 with 1 Axes>"
      ]
     },
     "metadata": {
      "needs_background": "light"
     },
     "output_type": "display_data"
    }
   ],
   "source": [
    "pd.DataFrame(history.history).plot(figsize=(8, 5))\n",
    "plt.grid(True)\n",
    "plt.gca().set_ylim(0, 1) # set the vertical range to [0-1]\n",
    "plt.show()"
   ]
  },
  {
   "cell_type": "code",
   "execution_count": 33,
   "metadata": {},
   "outputs": [
    {
     "data": {
      "text/plain": [
       "(10800,)"
      ]
     },
     "execution_count": 33,
     "metadata": {},
     "output_type": "execute_result"
    }
   ],
   "source": [
    "X[0,:].shape"
   ]
  },
  {
   "cell_type": "code",
   "execution_count": 34,
   "metadata": {},
   "outputs": [],
   "source": [
    "img = np.reshape(X[0,:],(60,60,3))"
   ]
  },
  {
   "cell_type": "code",
   "execution_count": 36,
   "metadata": {},
   "outputs": [],
   "source": [
    "import matplotlib.pyplot as plt"
   ]
  },
  {
   "cell_type": "code",
   "execution_count": 37,
   "metadata": {},
   "outputs": [
    {
     "name": "stderr",
     "output_type": "stream",
     "text": [
      "W0813 23:15:25.282957 139741247256384 image.py:648] Clipping input data to the valid range for imshow with RGB data ([0..1] for floats or [0..255] for integers).\n"
     ]
    },
    {
     "data": {
      "text/plain": [
       "<matplotlib.image.AxesImage at 0x7f16bdd4a780>"
      ]
     },
     "execution_count": 37,
     "metadata": {},
     "output_type": "execute_result"
    },
    {
     "data": {
      "image/png": "[encoded data removed]",
      "text/plain": [
       "<Figure size 432x288 with 1 Axes>"
      ]
     },
     "metadata": {
      "needs_background": "light"
     },
     "output_type": "display_data"
    }
   ],
   "source": [
    "plt.imshow(img)"
   ]
  },
  {
   "cell_type": "code",
   "execution_count": 42,
   "metadata": {},
   "outputs": [],
   "source": [
    "ypred = model.predict_classes(X[0:1,:])"
   ]
  },
  {
   "cell_type": "code",
   "execution_count": 43,
   "metadata": {},
   "outputs": [
    {
     "data": {
      "text/plain": [
       "array([0])"
      ]
     },
     "execution_count": 43,
     "metadata": {},
     "output_type": "execute_result"
    }
   ],
   "source": [
    "ypred"
   ]
  },
  {
   "cell_type": "code",
   "execution_count": 44,
   "metadata": {},
   "outputs": [],
   "source": [
    "from sklearn.metrics import classification_report,confusion_matrix"
   ]
  },
  {
   "cell_type": "code",
   "execution_count": 46,
   "metadata": {},
   "outputs": [
    {
     "name": "stdout",
     "output_type": "stream",
     "text": [
      "              precision    recall  f1-score   support\n",
      "\n",
      "         0.0       0.85      0.83      0.84      9282\n",
      "         1.0       0.84      0.86      0.85      9310\n",
      "\n",
      "   micro avg       0.84      0.84      0.84     18592\n",
      "   macro avg       0.85      0.84      0.84     18592\n",
      "weighted avg       0.85      0.84      0.84     18592\n",
      "\n"
     ]
    }
   ],
   "source": [
    "print(classification_report(Y,model.predict_classes(X)))"
   ]
  },
  {
   "cell_type": "code",
   "execution_count": 47,
   "metadata": {},
   "outputs": [
    {
     "name": "stdout",
     "output_type": "stream",
     "text": [
      "[[7715 1567]\n",
      " [1317 7993]]\n"
     ]
    }
   ],
   "source": [
    "print(confusion_matrix(Y,model.predict_classes(X)))"
   ]
  },
  {
   "cell_type": "code",
   "execution_count": null,
   "metadata": {},
   "outputs": [],
   "source": []
  },
  {
   "cell_type": "code",
   "execution_count": null,
   "metadata": {},
   "outputs": [],
   "source": []
  },
  {
   "cell_type": "code",
   "execution_count": null,
   "metadata": {},
   "outputs": [],
   "source": []
  },
  {
   "cell_type": "code",
   "execution_count": null,
   "metadata": {},
   "outputs": [],
   "source": []
  },
  {
   "cell_type": "code",
   "execution_count": null,
   "metadata": {},
   "outputs": [],
   "source": []
  },
  {
   "cell_type": "code",
   "execution_count": null,
   "metadata": {},
   "outputs": [],
   "source": []
  },
  {
   "cell_type": "code",
   "execution_count": null,
   "metadata": {},
   "outputs": [],
   "source": []
  },
  {
   "cell_type": "code",
   "execution_count": null,
   "metadata": {},
   "outputs": [],
   "source": []
  },
  {
   "cell_type": "code",
   "execution_count": null,
   "metadata": {},
   "outputs": [],
   "source": []
  },
  {
   "cell_type": "code",
   "execution_count": null,
   "metadata": {},
   "outputs": [],
   "source": []
  },
  {
   "cell_type": "code",
   "execution_count": null,
   "metadata": {},
   "outputs": [],
   "source": []
  },
  {
   "cell_type": "code",
   "execution_count": null,
   "metadata": {},
   "outputs": [],
   "source": []
  },
  {
   "cell_type": "code",
   "execution_count": null,
   "metadata": {},
   "outputs": [],
   "source": []
  },
  {
   "cell_type": "code",
   "execution_count": null,
   "metadata": {},
   "outputs": [],
   "source": []
  },
  {
   "cell_type": "code",
   "execution_count": null,
   "metadata": {},
   "outputs": [],
   "source": []
  },
  {
   "cell_type": "code",
   "execution_count": null,
   "metadata": {},
   "outputs": [],
   "source": []
  },
  {
   "cell_type": "code",
   "execution_count": null,
   "metadata": {},
   "outputs": [],
   "source": []
  },
  {
   "cell_type": "code",
   "execution_count": null,
   "metadata": {},
   "outputs": [],
   "source": []
  }
 ],
 "metadata": {
  "kernelspec": {
   "display_name": "Python 3",
   "language": "python",
   "name": "python3"
  },
  "language_info": {
   "codemirror_mode": {
    "name": "ipython",
    "version": 3
   },
   "file_extension": ".py",
   "mimetype": "text/x-python",
   "name": "python",
   "nbconvert_exporter": "python",
   "pygments_lexer": "ipython3",
   "version": "3.7.3"
  }
 },
 "nbformat": 4,
 "nbformat_minor": 2
}
