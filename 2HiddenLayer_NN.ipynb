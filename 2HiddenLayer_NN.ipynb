{
 "cells": [
  {
   "cell_type": "code",
   "execution_count": 1,
   "metadata": {},
   "outputs": [],
   "source": [
    "import numpy as np\n",
    "import matplotlib.pyplot as plt\n",
    "import seaborn as sns\n",
    "sns.set_style(None)\n",
    "from tqdm import tqdm\n",
    "%matplotlib inline"
   ]
  },
  {
   "cell_type": "code",
   "execution_count": 2,
   "metadata": {},
   "outputs": [],
   "source": [
    "import cv2\n",
    "import os"
   ]
  },
  {
   "cell_type": "code",
   "execution_count": 3,
   "metadata": {},
   "outputs": [],
   "source": [
    "path = 'CATS_DOGS/train/CAT/'"
   ]
  },
  {
   "cell_type": "code",
   "execution_count": 4,
   "metadata": {},
   "outputs": [],
   "source": [
    "cat_train_list = os.listdir(path)"
   ]
  },
  {
   "cell_type": "code",
   "execution_count": 5,
   "metadata": {},
   "outputs": [
    {
     "data": {
      "text/plain": [
       "9310"
      ]
     },
     "execution_count": 5,
     "metadata": {},
     "output_type": "execute_result"
    }
   ],
   "source": [
    "len(cat_train_list)"
   ]
  },
  {
   "cell_type": "code",
   "execution_count": 6,
   "metadata": {},
   "outputs": [],
   "source": [
    "X = np.zeros((int(len(cat_train_list)),60*60*3+1))"
   ]
  },
  {
   "cell_type": "code",
   "execution_count": 7,
   "metadata": {},
   "outputs": [],
   "source": [
    "i=0"
   ]
  },
  {
   "cell_type": "code",
   "execution_count": 8,
   "metadata": {},
   "outputs": [
    {
     "name": "stderr",
     "output_type": "stream",
     "text": [
      "100%|██████████| 9310/9310 [00:13<00:00, 687.06it/s]\n"
     ]
    }
   ],
   "source": [
    "for i in tqdm(range(int(len(cat_train_list)))):\n",
    "    pic = cv2.imread(path+cat_train_list[i])\n",
    "    pic = cv2.resize(pic,(60,60))\n",
    "    cat_train_pic = pic.reshape(pic.shape[0]*pic.shape[1]*3,1).T\n",
    "    cat_train_pic = cat_train_pic/225\n",
    "    X[i,:-1] = cat_train_pic\n",
    "    X[i,-1] = 1"
   ]
  },
  {
   "cell_type": "code",
   "execution_count": 9,
   "metadata": {},
   "outputs": [],
   "source": [
    "X_cat = X[:,:-1]"
   ]
  },
  {
   "cell_type": "code",
   "execution_count": 10,
   "metadata": {},
   "outputs": [],
   "source": [
    "path = 'CATS_DOGS/train/DOG/'"
   ]
  },
  {
   "cell_type": "code",
   "execution_count": 11,
   "metadata": {},
   "outputs": [],
   "source": [
    "dog_train_list = os.listdir(path)"
   ]
  },
  {
   "cell_type": "code",
   "execution_count": 12,
   "metadata": {},
   "outputs": [
    {
     "data": {
      "text/plain": [
       "9282"
      ]
     },
     "execution_count": 12,
     "metadata": {},
     "output_type": "execute_result"
    }
   ],
   "source": [
    "len(dog_train_list)"
   ]
  },
  {
   "cell_type": "code",
   "execution_count": 13,
   "metadata": {},
   "outputs": [],
   "source": [
    "X1 = np.zeros( (int(len(dog_train_list)),60*60*3+1))"
   ]
  },
  {
   "cell_type": "code",
   "execution_count": 14,
   "metadata": {},
   "outputs": [],
   "source": [
    "i=0"
   ]
  },
  {
   "cell_type": "code",
   "execution_count": null,
   "metadata": {},
   "outputs": [
    {
     "name": "stderr",
     "output_type": "stream",
     "text": [
      " 64%|██████▍   | 5960/9282 [00:09<00:04, 669.08it/s]"
     ]
    }
   ],
   "source": [
    "for i in tqdm(range(int(len(dog_train_list)))):\n",
    "    pic = cv2.imread(path+dog_train_list[i])\n",
    "    pic = cv2.resize(pic,(60,60))\n",
    "    dog_train_pic = pic.reshape(pic.shape[0]*pic.shape[1]*3,1).T\n",
    "    dog_train_pic = dog_train_pic/225\n",
    "    X1[i,:-1] = dog_train_pic\n",
    "    X1[i,-1] = 0"
   ]
  },
  {
   "cell_type": "code",
   "execution_count": null,
   "metadata": {},
   "outputs": [],
   "source": [
    "X_dog = X1[:,:-1]"
   ]
  },
  {
   "cell_type": "code",
   "execution_count": null,
   "metadata": {},
   "outputs": [],
   "source": [
    "x = np.zeros((X.shape[0]+X1.shape[0],X.shape[1]))"
   ]
  },
  {
   "cell_type": "code",
   "execution_count": null,
   "metadata": {},
   "outputs": [],
   "source": [
    "X.shape"
   ]
  },
  {
   "cell_type": "code",
   "execution_count": null,
   "metadata": {},
   "outputs": [],
   "source": [
    "X1.shape"
   ]
  },
  {
   "cell_type": "code",
   "execution_count": null,
   "metadata": {},
   "outputs": [],
   "source": [
    "x[0:9310,:] = X"
   ]
  },
  {
   "cell_type": "code",
   "execution_count": null,
   "metadata": {},
   "outputs": [],
   "source": [
    "x[9310:,:] = X1"
   ]
  },
  {
   "cell_type": "code",
   "execution_count": null,
   "metadata": {},
   "outputs": [],
   "source": [
    "p = np.copy(x)"
   ]
  },
  {
   "cell_type": "code",
   "execution_count": null,
   "metadata": {},
   "outputs": [],
   "source": [
    "np.random.shuffle(x)"
   ]
  },
  {
   "cell_type": "code",
   "execution_count": null,
   "metadata": {},
   "outputs": [],
   "source": [
    "p==x"
   ]
  },
  {
   "cell_type": "code",
   "execution_count": null,
   "metadata": {},
   "outputs": [],
   "source": [
    "X = x[:,:-1]"
   ]
  },
  {
   "cell_type": "code",
   "execution_count": null,
   "metadata": {},
   "outputs": [],
   "source": [
    "Y = x[:,-1]"
   ]
  },
  {
   "cell_type": "code",
   "execution_count": null,
   "metadata": {},
   "outputs": [],
   "source": [
    "Y = Y.reshape((X.shape[0],1))"
   ]
  },
  {
   "cell_type": "code",
   "execution_count": null,
   "metadata": {},
   "outputs": [],
   "source": [
    "X = X.T"
   ]
  },
  {
   "cell_type": "code",
   "execution_count": null,
   "metadata": {},
   "outputs": [],
   "source": [
    "Y=Y.T"
   ]
  },
  {
   "cell_type": "code",
   "execution_count": null,
   "metadata": {},
   "outputs": [],
   "source": [
    "X.shape"
   ]
  },
  {
   "cell_type": "code",
   "execution_count": null,
   "metadata": {},
   "outputs": [],
   "source": [
    "def sigmoid(z):\n",
    "    s = 1/(1+np.exp(-1*z))\n",
    "    return s"
   ]
  },
  {
   "cell_type": "code",
   "execution_count": null,
   "metadata": {},
   "outputs": [],
   "source": [
    "def nnlayer_desc(x):\n",
    "    n_i = X.shape[0]\n",
    "    n_h = 5\n",
    "    n_o = Y.shape[0]\n",
    "    return [n_i,n_h,n_o]"
   ]
  },
  {
   "cell_type": "code",
   "execution_count": null,
   "metadata": {},
   "outputs": [],
   "source": [
    "def initialize_params(n_i,n_h,n_o):\n",
    "    W1 = np.random.randn(n_h,n_i)*0.01\n",
    "    b1 = np.zeros((n_h,1))\n",
    "    W2 = np.random.randn(n_o,n_h)*0.01\n",
    "    b2 = np.zeros((n_o,1))\n",
    "    return [W1,b1,W2,b2]"
   ]
  },
  {
   "cell_type": "code",
   "execution_count": null,
   "metadata": {},
   "outputs": [],
   "source": [
    "def propogate(x,y,W1,b1,W2,b2):\n",
    "    Z1 = np.dot(W1,x)+b1\n",
    "    A1 = sigmoid(Z1)\n",
    "    Z2 = np.dot(W2,A1)+b2\n",
    "    A2 = sigmoid(Z2)\n",
    "    return [Z1,A1,Z2,A2]"
   ]
  },
  {
   "cell_type": "code",
   "execution_count": null,
   "metadata": {},
   "outputs": [],
   "source": [
    "def back_prop(x,y,Z1,A1,Z2,A2,W1,b1,W2,b2):\n",
    "    m = x.shape[1]\n",
    "    dZ2 = A2-y\n",
    "    dW2 = (1/m)*np.dot(dZ2,A2.T)\n",
    "    dB2 = (1/m)*np.sum(dZ2,axis=1,keepdims=True)\n",
    "    dZ1 = np.dot(W2.T,dZ2)*A1*(1-A1)\n",
    "    dW1 = (1/m)*np.dot(dZ1,X.T)\n",
    "    dB1 = (1/m)*np.sum(dZ1,axis=1,keepdims=True)\n",
    "    return [dW1,dB1,dW2,dB2]"
   ]
  },
  {
   "cell_type": "code",
   "execution_count": null,
   "metadata": {},
   "outputs": [],
   "source": [
    "def updation(w1,b1,w2,b2,dw1,db1,dw2,db2,aplha):\n",
    "    b1 = b1 - aplha*db1\n",
    "    w1 = w1 - aplha*dw1\n",
    "    w2 = w2 - aplha*dw2\n",
    "    b2 = b2 - aplha*db2\n",
    "    return [w1,b1,w2,b2]"
   ]
  },
  {
   "cell_type": "code",
   "execution_count": null,
   "metadata": {},
   "outputs": [],
   "source": [
    "def nn_model(x,y,num_iter,alpha):\n",
    "    n_i,n_h,n_o = nnlayer_desc(x)\n",
    "    params = initialize_params(n_i,n_h,n_o)\n",
    "    w1 = params[0]\n",
    "    b1 = params[1]\n",
    "    w2 = params[2]\n",
    "    b2 = params[3]\n",
    "    for i in tqdm(range(num_iter)):\n",
    "        za = propogate(x,y,w1,b1,w2,b2)\n",
    "        dbw = back_prop(x,y,za[0],za[1],za[2],za[3],params[0],params[1],params[2],params[3])\n",
    "        ubw = updation(w1,b1,w2,b2,dbw[0],dbw[1],dbw[2],dbw[3],alpha)\n",
    "        w1=ubw[0]\n",
    "        b1=ubw[1]\n",
    "        w2=ubw[2]\n",
    "        b2=ubw[3]\n",
    "    return [w1,b1,w2,b2]"
   ]
  },
  {
   "cell_type": "code",
   "execution_count": null,
   "metadata": {},
   "outputs": [],
   "source": [
    "params = nn_model(X,Y,1000,5)"
   ]
  },
  {
   "cell_type": "code",
   "execution_count": null,
   "metadata": {},
   "outputs": [],
   "source": [
    "w1 = params[0]\n",
    "b1 = params[1]\n",
    "w2 = params[2]\n",
    "b2 = params[3]"
   ]
  },
  {
   "cell_type": "code",
   "execution_count": null,
   "metadata": {},
   "outputs": [],
   "source": [
    "pic = cv2.imread('55.jpg')\n",
    "pic = cv2.resize(pic,(60,60))\n",
    "pic = pic.reshape(60*60*3,1)"
   ]
  },
  {
   "cell_type": "code",
   "execution_count": null,
   "metadata": {},
   "outputs": [],
   "source": [
    "w1.shape"
   ]
  },
  {
   "cell_type": "code",
   "execution_count": null,
   "metadata": {},
   "outputs": [],
   "source": [
    "b1.shape"
   ]
  },
  {
   "cell_type": "code",
   "execution_count": null,
   "metadata": {},
   "outputs": [],
   "source": [
    "w2.shape"
   ]
  },
  {
   "cell_type": "code",
   "execution_count": null,
   "metadata": {},
   "outputs": [],
   "source": [
    "b2.shape"
   ]
  },
  {
   "cell_type": "code",
   "execution_count": null,
   "metadata": {},
   "outputs": [],
   "source": [
    "z1 = np.dot(w1,X)+b1\n",
    "a1 = sigmoid(z1)\n",
    "z2 = np.dot(w2,a1)+b2\n",
    "a2 = sigmoid(z2)\n",
    "pred = np.round(a2)\n",
    "pred = pred.T\n",
    "'''\n",
    "print(a2)\n",
    "if pred==1:\n",
    "    print('Cat')\n",
    "else:\n",
    "    print('Dog')\n",
    "'''"
   ]
  },
  {
   "cell_type": "code",
   "execution_count": null,
   "metadata": {},
   "outputs": [],
   "source": [
    "c=0\n",
    "for i in range(len(pred)):\n",
    "    if pred[i]==Y[0,i]:\n",
    "        c+=1\n",
    "\n",
    "print(c)\n",
    "print(Y.shape)"
   ]
  },
  {
   "cell_type": "code",
   "execution_count": null,
   "metadata": {},
   "outputs": [],
   "source": [
    "8996/18592"
   ]
  },
  {
   "cell_type": "code",
   "execution_count": null,
   "metadata": {},
   "outputs": [],
   "source": []
  },
  {
   "cell_type": "code",
   "execution_count": null,
   "metadata": {},
   "outputs": [],
   "source": []
  },
  {
   "cell_type": "code",
   "execution_count": null,
   "metadata": {},
   "outputs": [],
   "source": []
  }
 ],
 "metadata": {
  "kernelspec": {
   "display_name": "Python 3",
   "language": "python",
   "name": "python3"
  },
  "language_info": {
   "codemirror_mode": {
    "name": "ipython",
    "version": 3
   },
   "file_extension": ".py",
   "mimetype": "text/x-python",
   "name": "python",
   "nbconvert_exporter": "python",
   "pygments_lexer": "ipython3",
   "version": "3.7.3"
  }
 },
 "nbformat": 4,
 "nbformat_minor": 2
}
